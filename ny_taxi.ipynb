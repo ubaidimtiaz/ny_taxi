{
 "cells": [
  {
   "cell_type": "code",
   "execution_count": 1,
   "metadata": {},
   "outputs": [],
   "source": [
    "import pandas as pd"
   ]
  },
  {
   "cell_type": "code",
   "execution_count": 2,
   "metadata": {},
   "outputs": [],
   "source": [
    "import math"
   ]
  },
  {
   "cell_type": "code",
   "execution_count": 3,
   "metadata": {},
   "outputs": [],
   "source": [
    "train = pd.read_csv('data/17_06_train_cleaned.csv')"
   ]
  },
  {
   "cell_type": "code",
   "execution_count": 74,
   "metadata": {},
   "outputs": [],
   "source": [
    "bin_label= [str(i)+ '-'+ str(i+300) for i in range(0,int(train['distance'].max())-1, 300)]"
   ]
  },
  {
   "cell_type": "code",
   "execution_count": 50,
   "metadata": {},
   "outputs": [],
   "source": [
    "bin_size = [i for i in range(0,int(train['distance'].max()), 300)]"
   ]
  },
  {
   "cell_type": "code",
   "execution_count": 51,
   "metadata": {},
   "outputs": [
    {
     "data": {
      "text/plain": [
       "[0,\n",
       " 300,\n",
       " 600,\n",
       " 900,\n",
       " 1200,\n",
       " 1500,\n",
       " 1800,\n",
       " 2100,\n",
       " 2400,\n",
       " 2700,\n",
       " 3000,\n",
       " 3300,\n",
       " 3600,\n",
       " 3900,\n",
       " 4200,\n",
       " 4500]"
      ]
     },
     "execution_count": 51,
     "metadata": {},
     "output_type": "execute_result"
    }
   ],
   "source": [
    "bin_size"
   ]
  },
  {
   "cell_type": "code",
   "execution_count": 57,
   "metadata": {},
   "outputs": [
    {
     "data": {
      "text/plain": [
       "['0-1',\n",
       " '300-301',\n",
       " '600-601',\n",
       " '900-901',\n",
       " '1200-1201',\n",
       " '1500-1501',\n",
       " '1800-1801',\n",
       " '2100-2101',\n",
       " '2400-2401',\n",
       " '2700-2701',\n",
       " '3000-3001',\n",
       " '3300-3301',\n",
       " '3600-3601',\n",
       " '3900-3901',\n",
       " '4200-4201',\n",
       " '4500-4501']"
      ]
     },
     "execution_count": 57,
     "metadata": {},
     "output_type": "execute_result"
    }
   ],
   "source": [
    "bin_label"
   ]
  },
  {
   "cell_type": "code",
   "execution_count": 76,
   "metadata": {},
   "outputs": [],
   "source": [
    "bin_label=bin_label[0:-1]"
   ]
  },
  {
   "cell_type": "code",
   "execution_count": 77,
   "metadata": {},
   "outputs": [],
   "source": [
    "train['dis_bin']=pd.cut(train['distance'],bins=bin_size, labels=bin_label)"
   ]
  },
  {
   "cell_type": "code",
   "execution_count": 62,
   "metadata": {},
   "outputs": [
    {
     "data": {
      "text/html": [
       "<div>\n",
       "<style scoped>\n",
       "    .dataframe tbody tr th:only-of-type {\n",
       "        vertical-align: middle;\n",
       "    }\n",
       "\n",
       "    .dataframe tbody tr th {\n",
       "        vertical-align: top;\n",
       "    }\n",
       "\n",
       "    .dataframe thead th {\n",
       "        text-align: right;\n",
       "    }\n",
       "</style>\n",
       "<table border=\"1\" class=\"dataframe\">\n",
       "  <thead>\n",
       "    <tr style=\"text-align: right;\">\n",
       "      <th></th>\n",
       "      <th>key</th>\n",
       "      <th>fare_amount</th>\n",
       "      <th>passenger_count</th>\n",
       "      <th>distance</th>\n",
       "      <th>dis_bin</th>\n",
       "    </tr>\n",
       "  </thead>\n",
       "  <tbody>\n",
       "    <tr>\n",
       "      <th>0</th>\n",
       "      <td>2009-06-15 17:26:21.0000001</td>\n",
       "      <td>4.5</td>\n",
       "      <td>1</td>\n",
       "      <td>1.065430</td>\n",
       "      <td>0-1</td>\n",
       "    </tr>\n",
       "    <tr>\n",
       "      <th>1</th>\n",
       "      <td>2010-01-05 16:52:16.0000002</td>\n",
       "      <td>16.9</td>\n",
       "      <td>1</td>\n",
       "      <td>0.564261</td>\n",
       "      <td>0-1</td>\n",
       "    </tr>\n",
       "    <tr>\n",
       "      <th>2</th>\n",
       "      <td>2011-08-18 00:35:00.00000049</td>\n",
       "      <td>5.7</td>\n",
       "      <td>2</td>\n",
       "      <td>0.620920</td>\n",
       "      <td>0-1</td>\n",
       "    </tr>\n",
       "    <tr>\n",
       "      <th>3</th>\n",
       "      <td>2012-04-21 04:30:42.0000001</td>\n",
       "      <td>7.7</td>\n",
       "      <td>1</td>\n",
       "      <td>1.640032</td>\n",
       "      <td>0-1</td>\n",
       "    </tr>\n",
       "    <tr>\n",
       "      <th>4</th>\n",
       "      <td>2010-03-09 07:51:00.000000135</td>\n",
       "      <td>5.3</td>\n",
       "      <td>1</td>\n",
       "      <td>0.638351</td>\n",
       "      <td>0-1</td>\n",
       "    </tr>\n",
       "    <tr>\n",
       "      <th>...</th>\n",
       "      <td>...</td>\n",
       "      <td>...</td>\n",
       "      <td>...</td>\n",
       "      <td>...</td>\n",
       "      <td>...</td>\n",
       "    </tr>\n",
       "    <tr>\n",
       "      <th>52503782</th>\n",
       "      <td>2014-03-15 03:28:00.00000070</td>\n",
       "      <td>14.0</td>\n",
       "      <td>1</td>\n",
       "      <td>2.092225</td>\n",
       "      <td>0-1</td>\n",
       "    </tr>\n",
       "    <tr>\n",
       "      <th>52503783</th>\n",
       "      <td>2009-03-24 20:46:20.0000002</td>\n",
       "      <td>4.2</td>\n",
       "      <td>1</td>\n",
       "      <td>0.470594</td>\n",
       "      <td>0-1</td>\n",
       "    </tr>\n",
       "    <tr>\n",
       "      <th>52503784</th>\n",
       "      <td>2011-04-02 22:04:24.0000004</td>\n",
       "      <td>14.1</td>\n",
       "      <td>1</td>\n",
       "      <td>1.482074</td>\n",
       "      <td>0-1</td>\n",
       "    </tr>\n",
       "    <tr>\n",
       "      <th>52503785</th>\n",
       "      <td>2011-10-26 05:57:51.0000002</td>\n",
       "      <td>28.9</td>\n",
       "      <td>1</td>\n",
       "      <td>3.942886</td>\n",
       "      <td>0-1</td>\n",
       "    </tr>\n",
       "    <tr>\n",
       "      <th>52503786</th>\n",
       "      <td>2014-12-12 11:33:00.00000015</td>\n",
       "      <td>7.5</td>\n",
       "      <td>1</td>\n",
       "      <td>0.999520</td>\n",
       "      <td>0-1</td>\n",
       "    </tr>\n",
       "  </tbody>\n",
       "</table>\n",
       "<p>52503787 rows × 5 columns</p>\n",
       "</div>"
      ],
      "text/plain": [
       "                                    key  fare_amount  passenger_count  \\\n",
       "0           2009-06-15 17:26:21.0000001          4.5                1   \n",
       "1           2010-01-05 16:52:16.0000002         16.9                1   \n",
       "2          2011-08-18 00:35:00.00000049          5.7                2   \n",
       "3           2012-04-21 04:30:42.0000001          7.7                1   \n",
       "4         2010-03-09 07:51:00.000000135          5.3                1   \n",
       "...                                 ...          ...              ...   \n",
       "52503782   2014-03-15 03:28:00.00000070         14.0                1   \n",
       "52503783    2009-03-24 20:46:20.0000002          4.2                1   \n",
       "52503784    2011-04-02 22:04:24.0000004         14.1                1   \n",
       "52503785    2011-10-26 05:57:51.0000002         28.9                1   \n",
       "52503786   2014-12-12 11:33:00.00000015          7.5                1   \n",
       "\n",
       "          distance dis_bin  \n",
       "0         1.065430     0-1  \n",
       "1         0.564261     0-1  \n",
       "2         0.620920     0-1  \n",
       "3         1.640032     0-1  \n",
       "4         0.638351     0-1  \n",
       "...            ...     ...  \n",
       "52503782  2.092225     0-1  \n",
       "52503783  0.470594     0-1  \n",
       "52503784  1.482074     0-1  \n",
       "52503785  3.942886     0-1  \n",
       "52503786  0.999520     0-1  \n",
       "\n",
       "[52503787 rows x 5 columns]"
      ]
     },
     "execution_count": 62,
     "metadata": {},
     "output_type": "execute_result"
    }
   ],
   "source": [
    "train"
   ]
  },
  {
   "cell_type": "code",
   "execution_count": 70,
   "metadata": {},
   "outputs": [],
   "source": [
    "pass_group = train.groupby(['passenger_count','dis_bin']).mean().reset_index()"
   ]
  },
  {
   "cell_type": "code",
   "execution_count": 71,
   "metadata": {},
   "outputs": [
    {
     "data": {
      "text/html": [
       "<div>\n",
       "<style scoped>\n",
       "    .dataframe tbody tr th:only-of-type {\n",
       "        vertical-align: middle;\n",
       "    }\n",
       "\n",
       "    .dataframe tbody tr th {\n",
       "        vertical-align: top;\n",
       "    }\n",
       "\n",
       "    .dataframe thead th {\n",
       "        text-align: right;\n",
       "    }\n",
       "</style>\n",
       "<table border=\"1\" class=\"dataframe\">\n",
       "  <thead>\n",
       "    <tr style=\"text-align: right;\">\n",
       "      <th></th>\n",
       "      <th>passenger_count</th>\n",
       "      <th>dis_bin</th>\n",
       "      <th>fare_amount</th>\n",
       "      <th>distance</th>\n",
       "    </tr>\n",
       "  </thead>\n",
       "  <tbody>\n",
       "    <tr>\n",
       "      <th>0</th>\n",
       "      <td>1</td>\n",
       "      <td>0-1</td>\n",
       "      <td>11.204586</td>\n",
       "      <td>1.576906</td>\n",
       "    </tr>\n",
       "    <tr>\n",
       "      <th>1</th>\n",
       "      <td>1</td>\n",
       "      <td>300-301</td>\n",
       "      <td>11.064653</td>\n",
       "      <td>414.358951</td>\n",
       "    </tr>\n",
       "    <tr>\n",
       "      <th>2</th>\n",
       "      <td>1</td>\n",
       "      <td>600-601</td>\n",
       "      <td>11.491637</td>\n",
       "      <td>736.593868</td>\n",
       "    </tr>\n",
       "    <tr>\n",
       "      <th>3</th>\n",
       "      <td>1</td>\n",
       "      <td>900-901</td>\n",
       "      <td>8.621154</td>\n",
       "      <td>1065.936447</td>\n",
       "    </tr>\n",
       "    <tr>\n",
       "      <th>4</th>\n",
       "      <td>1</td>\n",
       "      <td>1200-1201</td>\n",
       "      <td>10.571429</td>\n",
       "      <td>1348.869923</td>\n",
       "    </tr>\n",
       "    <tr>\n",
       "      <th>...</th>\n",
       "      <td>...</td>\n",
       "      <td>...</td>\n",
       "      <td>...</td>\n",
       "      <td>...</td>\n",
       "    </tr>\n",
       "    <tr>\n",
       "      <th>70</th>\n",
       "      <td>5</td>\n",
       "      <td>3000-3001</td>\n",
       "      <td>17.357143</td>\n",
       "      <td>3110.795143</td>\n",
       "    </tr>\n",
       "    <tr>\n",
       "      <th>71</th>\n",
       "      <td>5</td>\n",
       "      <td>3300-3301</td>\n",
       "      <td>5.000000</td>\n",
       "      <td>3446.880565</td>\n",
       "    </tr>\n",
       "    <tr>\n",
       "      <th>72</th>\n",
       "      <td>5</td>\n",
       "      <td>3600-3601</td>\n",
       "      <td>NaN</td>\n",
       "      <td>NaN</td>\n",
       "    </tr>\n",
       "    <tr>\n",
       "      <th>73</th>\n",
       "      <td>5</td>\n",
       "      <td>3900-3901</td>\n",
       "      <td>NaN</td>\n",
       "      <td>NaN</td>\n",
       "    </tr>\n",
       "    <tr>\n",
       "      <th>74</th>\n",
       "      <td>5</td>\n",
       "      <td>4200-4201</td>\n",
       "      <td>NaN</td>\n",
       "      <td>NaN</td>\n",
       "    </tr>\n",
       "  </tbody>\n",
       "</table>\n",
       "<p>75 rows × 4 columns</p>\n",
       "</div>"
      ],
      "text/plain": [
       "    passenger_count    dis_bin  fare_amount     distance\n",
       "0                 1        0-1    11.204586     1.576906\n",
       "1                 1    300-301    11.064653   414.358951\n",
       "2                 1    600-601    11.491637   736.593868\n",
       "3                 1    900-901     8.621154  1065.936447\n",
       "4                 1  1200-1201    10.571429  1348.869923\n",
       "..              ...        ...          ...          ...\n",
       "70                5  3000-3001    17.357143  3110.795143\n",
       "71                5  3300-3301     5.000000  3446.880565\n",
       "72                5  3600-3601          NaN          NaN\n",
       "73                5  3900-3901          NaN          NaN\n",
       "74                5  4200-4201          NaN          NaN\n",
       "\n",
       "[75 rows x 4 columns]"
      ]
     },
     "execution_count": 71,
     "metadata": {},
     "output_type": "execute_result"
    }
   ],
   "source": [
    "pass_group"
   ]
  },
  {
   "cell_type": "code",
   "execution_count": 78,
   "metadata": {},
   "outputs": [
    {
     "data": {
      "text/plain": [
       "0-300        52501537\n",
       "600-900           975\n",
       "300-600           618\n",
       "3000-3300         105\n",
       "2100-2400          87\n",
       "1800-2100          80\n",
       "2400-2700          69\n",
       "1500-1800          69\n",
       "1200-1500          63\n",
       "900-1200           62\n",
       "2700-3000          54\n",
       "3300-3600          33\n",
       "3900-4200          15\n",
       "3600-3900          14\n",
       "4200-4500           5\n",
       "Name: dis_bin, dtype: int64"
      ]
     },
     "execution_count": 78,
     "metadata": {},
     "output_type": "execute_result"
    }
   ],
   "source": [
    "train['dis_bin'].value_counts()"
   ]
  },
  {
   "cell_type": "code",
   "execution_count": 80,
   "metadata": {},
   "outputs": [],
   "source": [
    "filt = train['distance']<=300"
   ]
  },
  {
   "cell_type": "code",
   "execution_count": 81,
   "metadata": {},
   "outputs": [],
   "source": [
    "train = train[filt]"
   ]
  },
  {
   "cell_type": "code",
   "execution_count": 83,
   "metadata": {},
   "outputs": [
    {
     "data": {
      "text/plain": [
       "84.816580    149\n",
       "41.453693     35\n",
       "84.469594     25\n",
       "84.463452     21\n",
       "84.470558     21\n",
       "            ... \n",
       "1.221425       1\n",
       "1.036559       1\n",
       "1.311197       1\n",
       "3.816515       1\n",
       "6.140868       1\n",
       "Name: distance, Length: 52475069, dtype: int64"
      ]
     },
     "execution_count": 83,
     "metadata": {},
     "output_type": "execute_result"
    }
   ],
   "source": [
    "train['distance'].value_counts()"
   ]
  },
  {
   "cell_type": "code",
   "execution_count": null,
   "metadata": {},
   "outputs": [],
   "source": []
  }
 ],
 "metadata": {
  "kernelspec": {
   "display_name": "Python 3",
   "language": "python",
   "name": "python3"
  },
  "language_info": {
   "codemirror_mode": {
    "name": "ipython",
    "version": 3
   },
   "file_extension": ".py",
   "mimetype": "text/x-python",
   "name": "python",
   "nbconvert_exporter": "python",
   "pygments_lexer": "ipython3",
   "version": "3.7.6"
  }
 },
 "nbformat": 4,
 "nbformat_minor": 4
}
